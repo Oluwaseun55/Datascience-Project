{
 "cells": [
  {
   "cell_type": "code",
   "execution_count": 10,
   "id": "2e1843bd-872c-49ce-8e27-4b3d96197c64",
   "metadata": {},
   "outputs": [],
   "source": [
    "import pandas as pd\n",
    "import requests\n",
    "from bs4 import BeautifulSoup\n"
   ]
  },
  {
   "cell_type": "code",
   "execution_count": 11,
   "id": "6867e7cc-8763-421b-8ae4-df03ffb4cc08",
   "metadata": {},
   "outputs": [],
   "source": [
    "import warnings\n",
    "warnings.filterwarnings(\"ignore\", category = FutureWarning)"
   ]
  },
  {
   "cell_type": "code",
   "execution_count": 33,
   "id": "7a60f67d-738f-497c-b494-2bddc115a4e9",
   "metadata": {},
   "outputs": [],
   "source": [
    "url = \"https://cf-courses-data.s3.us.cloud-object-storage.appdomain.cloud/IBMDeveloperSkillsNetwork-PY0220EN-SkillsNetwork/labs/project/netflix_data_webpage.html\"\n"
   ]
  },
  {
   "cell_type": "code",
   "execution_count": 34,
   "id": "4bc27c3a-a6fe-4f02-aa0b-41d4b6615617",
   "metadata": {},
   "outputs": [],
   "source": [
    "data = requests.get(url).text\n",
    "soup = BeautifulSoup(data, \"html.parser\")\n",
    "netflix_data = pd.DataFrame(columns= [\"Date\",\"Open\",\"High\",\"Low\",\"Close\",\"Volume\"])"
   ]
  },
  {
   "cell_type": "code",
   "execution_count": 35,
   "id": "5ddd7ac6-16fd-4bc8-81d1-9f6373c17608",
   "metadata": {},
   "outputs": [
    {
     "data": {
      "text/html": [
       "<div>\n",
       "<style scoped>\n",
       "    .dataframe tbody tr th:only-of-type {\n",
       "        vertical-align: middle;\n",
       "    }\n",
       "\n",
       "    .dataframe tbody tr th {\n",
       "        vertical-align: top;\n",
       "    }\n",
       "\n",
       "    .dataframe thead th {\n",
       "        text-align: right;\n",
       "    }\n",
       "</style>\n",
       "<table border=\"1\" class=\"dataframe\">\n",
       "  <thead>\n",
       "    <tr style=\"text-align: right;\">\n",
       "      <th></th>\n",
       "      <th>Date</th>\n",
       "      <th>Open</th>\n",
       "      <th>High</th>\n",
       "      <th>Low</th>\n",
       "      <th>Close</th>\n",
       "      <th>Volume</th>\n",
       "    </tr>\n",
       "  </thead>\n",
       "  <tbody>\n",
       "    <tr>\n",
       "      <th>0</th>\n",
       "      <td>Sep 01, 2015</td>\n",
       "      <td>109.35</td>\n",
       "      <td>NaN</td>\n",
       "      <td>93.55</td>\n",
       "      <td>103.26</td>\n",
       "      <td>103.26</td>\n",
       "    </tr>\n",
       "  </tbody>\n",
       "</table>\n",
       "</div>"
      ],
      "text/plain": [
       "           Date    Open High    Low   Close  Volume\n",
       "0  Sep 01, 2015  109.35  NaN  93.55  103.26  103.26"
      ]
     },
     "execution_count": 35,
     "metadata": {},
     "output_type": "execute_result"
    }
   ],
   "source": [
    "for row in soup.find(\"tbody\").find_all(\"tr\"):\n",
    "    col = row.find_all(\"td\")\n",
    "    date = col[0].text\n",
    "    open = col[1].text\n",
    "    high = col[2].text\n",
    "    low = col[3].text\n",
    "    close = col[4].text\n",
    "    volume = col[5].text\n",
    "\n",
    "netflix_data = pd.concat([netflix_data,pd.DataFrame({\"Date\":[date], \"Open\":[open], \"Low\":[low], \"Close\":[close], \"Volume\":[volume]})], ignore_index = True)\n",
    "netflix_data.head()\n",
    "                                                                            \n",
    "    \n",
    "                                       "
   ]
  },
  {
   "cell_type": "markdown",
   "id": "e5f6106b-8a7b-4817-ba6d-86cfb791e879",
   "metadata": {},
   "source": [
    "## What is read_html in pandas library?\n",
    "`pd.read_html(url)` is a function provided by the pandas library in Python that is used to extract tables from HTML web pages. It takes in a URL as input and returns a list of all the tables found on the web page. \n",
    "</center>\n"
   ]
  },
  {
   "cell_type": "code",
   "execution_count": 20,
   "id": "0f9b3085-d3d1-480b-a5ce-a908743576d0",
   "metadata": {},
   "outputs": [],
   "source": [
    "url = \"https://cf-courses-data.s3.us.cloud-object-storage.appdomain.cloud/IBMDeveloperSkillsNetwork-PY0220EN-SkillsNetwork/labs/project/netflix_data_webpage.html\"\n"
   ]
  },
  {
   "cell_type": "code",
   "execution_count": 37,
   "id": "dfbc7b4b-b734-455b-bb62-f4ce81a5da2d",
   "metadata": {},
   "outputs": [
    {
     "data": {
      "text/html": [
       "<div>\n",
       "<style scoped>\n",
       "    .dataframe tbody tr th:only-of-type {\n",
       "        vertical-align: middle;\n",
       "    }\n",
       "\n",
       "    .dataframe tbody tr th {\n",
       "        vertical-align: top;\n",
       "    }\n",
       "\n",
       "    .dataframe thead th {\n",
       "        text-align: right;\n",
       "    }\n",
       "</style>\n",
       "<table border=\"1\" class=\"dataframe\">\n",
       "  <thead>\n",
       "    <tr style=\"text-align: right;\">\n",
       "      <th></th>\n",
       "      <th>Date</th>\n",
       "      <th>Open</th>\n",
       "      <th>High</th>\n",
       "      <th>Low</th>\n",
       "      <th>Close*</th>\n",
       "      <th>Adj Close**</th>\n",
       "      <th>Volume</th>\n",
       "    </tr>\n",
       "  </thead>\n",
       "  <tbody>\n",
       "    <tr>\n",
       "      <th>0</th>\n",
       "      <td>Jun 01, 2021</td>\n",
       "      <td>504.01</td>\n",
       "      <td>536.13</td>\n",
       "      <td>482.14</td>\n",
       "      <td>528.21</td>\n",
       "      <td>528.21</td>\n",
       "      <td>78560600</td>\n",
       "    </tr>\n",
       "    <tr>\n",
       "      <th>1</th>\n",
       "      <td>May 01, 2021</td>\n",
       "      <td>512.65</td>\n",
       "      <td>518.95</td>\n",
       "      <td>478.54</td>\n",
       "      <td>502.81</td>\n",
       "      <td>502.81</td>\n",
       "      <td>66927600</td>\n",
       "    </tr>\n",
       "    <tr>\n",
       "      <th>2</th>\n",
       "      <td>Apr 01, 2021</td>\n",
       "      <td>529.93</td>\n",
       "      <td>563.56</td>\n",
       "      <td>499.00</td>\n",
       "      <td>513.47</td>\n",
       "      <td>513.47</td>\n",
       "      <td>111573300</td>\n",
       "    </tr>\n",
       "    <tr>\n",
       "      <th>3</th>\n",
       "      <td>Mar 01, 2021</td>\n",
       "      <td>545.57</td>\n",
       "      <td>556.99</td>\n",
       "      <td>492.85</td>\n",
       "      <td>521.66</td>\n",
       "      <td>521.66</td>\n",
       "      <td>90183900</td>\n",
       "    </tr>\n",
       "    <tr>\n",
       "      <th>4</th>\n",
       "      <td>Feb 01, 2021</td>\n",
       "      <td>536.79</td>\n",
       "      <td>566.65</td>\n",
       "      <td>518.28</td>\n",
       "      <td>538.85</td>\n",
       "      <td>538.85</td>\n",
       "      <td>61902300</td>\n",
       "    </tr>\n",
       "  </tbody>\n",
       "</table>\n",
       "</div>"
      ],
      "text/plain": [
       "           Date    Open    High     Low  Close* Adj Close**     Volume\n",
       "0  Jun 01, 2021  504.01  536.13  482.14  528.21      528.21   78560600\n",
       "1  May 01, 2021  512.65  518.95  478.54  502.81      502.81   66927600\n",
       "2  Apr 01, 2021  529.93  563.56  499.00  513.47      513.47  111573300\n",
       "3  Mar 01, 2021  545.57  556.99  492.85  521.66      521.66   90183900\n",
       "4  Feb 01, 2021  536.79  566.65  518.28  538.85      538.85   61902300"
      ]
     },
     "execution_count": 37,
     "metadata": {},
     "output_type": "execute_result"
    }
   ],
   "source": [
    "read_data_pandas =pd.read_html(url)\n",
    "net_flix_data = read_data_pandas[0]\n",
    "net_flix_data.head()\n"
   ]
  },
  {
   "cell_type": "code",
   "execution_count": 38,
   "id": "50aaf76c-a79d-4be3-96cf-11587e26fd5d",
   "metadata": {},
   "outputs": [],
   "source": [
    "\n",
    "# soup = BeautifulSoup(url , \"html.parser\")\n",
    "# read_data_pandas = pd.read_html(str(soup))\n",
    "# read_data_pandas[0]"
   ]
  },
  {
   "cell_type": "markdown",
   "id": "df96f153-08f2-4410-b7f3-dcb5f2e3d922",
   "metadata": {},
   "source": [
    "# Exercise: use webscraping to extract stock data"
   ]
  },
  {
   "cell_type": "code",
   "execution_count": 51,
   "id": "448beaa6-b258-4ce2-83ac-9bf6b33cc995",
   "metadata": {},
   "outputs": [
    {
     "name": "stdout",
     "output_type": "stream",
     "text": [
      "Amazon.com, Inc. (AMZN) Stock Historical Prices & Data - Yahoo Finance\n"
     ]
    }
   ],
   "source": [
    "import requests\n",
    "import pandas as pd\n",
    "url = \"https://cf-courses-data.s3.us.cloud-object-storage.appdomain.cloud/IBMDeveloperSkillsNetwork-PY0220EN-SkillsNetwork/labs/project/amazon_data_webpage.html\"\n",
    "html_data = requests.get(url).text\n",
    "soup = BeautifulSoup(html_data, \"html.parser\")\n",
    "for row in soup.find(\"title\"):\n",
    "    print(row)"
   ]
  },
  {
   "cell_type": "markdown",
   "id": "e7b0d37c-f4a9-4069-b082-b8e1c0708cd3",
   "metadata": {},
   "source": [
    "Using BeautifulSoup, extract the table with historical share prices and store it into a data frame named `amazon_data`. The data frame should have columns Date, Open, High, Low, Close, Adj Close, and Volume. Fill in each variable with the correct data from the list `col`. \n"
   ]
  },
  {
   "cell_type": "code",
   "execution_count": 45,
   "id": "02d7ba33-7701-4d74-b6d0-ac85204a11d7",
   "metadata": {},
   "outputs": [],
   "source": [
    "amazon_data = pd.DataFrame(columns=[\"Date\", \"Open\", \"High\", \"Low\", \"Close\" ,\"Adj_Close\", \"Volume\"])"
   ]
  },
  {
   "cell_type": "code",
   "execution_count": 49,
   "id": "b4454c13-3ba7-4666-b13f-a56b0c898dba",
   "metadata": {},
   "outputs": [
    {
     "data": {
      "text/html": [
       "<div>\n",
       "<style scoped>\n",
       "    .dataframe tbody tr th:only-of-type {\n",
       "        vertical-align: middle;\n",
       "    }\n",
       "\n",
       "    .dataframe tbody tr th {\n",
       "        vertical-align: top;\n",
       "    }\n",
       "\n",
       "    .dataframe thead th {\n",
       "        text-align: right;\n",
       "    }\n",
       "</style>\n",
       "<table border=\"1\" class=\"dataframe\">\n",
       "  <thead>\n",
       "    <tr style=\"text-align: right;\">\n",
       "      <th></th>\n",
       "      <th>Date</th>\n",
       "      <th>Open</th>\n",
       "      <th>High</th>\n",
       "      <th>Low</th>\n",
       "      <th>Close</th>\n",
       "      <th>Adj_Close</th>\n",
       "      <th>Volume</th>\n",
       "    </tr>\n",
       "  </thead>\n",
       "  <tbody>\n",
       "    <tr>\n",
       "      <th>0</th>\n",
       "      <td>Jan 01, 2016</td>\n",
       "      <td>656.29</td>\n",
       "      <td>657.72</td>\n",
       "      <td>547.18</td>\n",
       "      <td>587.00</td>\n",
       "      <td>587.00</td>\n",
       "      <td>130,200,900</td>\n",
       "    </tr>\n",
       "    <tr>\n",
       "      <th>1</th>\n",
       "      <td>Jan 01, 2016</td>\n",
       "      <td>656.29</td>\n",
       "      <td>657.72</td>\n",
       "      <td>547.18</td>\n",
       "      <td>587.00</td>\n",
       "      <td>587.00</td>\n",
       "      <td>130,200,900</td>\n",
       "    </tr>\n",
       "    <tr>\n",
       "      <th>2</th>\n",
       "      <td>Jan 01, 2016</td>\n",
       "      <td>656.29</td>\n",
       "      <td>657.72</td>\n",
       "      <td>547.18</td>\n",
       "      <td>587.00</td>\n",
       "      <td>587.00</td>\n",
       "      <td>130,200,900</td>\n",
       "    </tr>\n",
       "  </tbody>\n",
       "</table>\n",
       "</div>"
      ],
      "text/plain": [
       "           Date    Open    High     Low   Close Adj_Close       Volume\n",
       "0  Jan 01, 2016  656.29  657.72  547.18  587.00    587.00  130,200,900\n",
       "1  Jan 01, 2016  656.29  657.72  547.18  587.00    587.00  130,200,900\n",
       "2  Jan 01, 2016  656.29  657.72  547.18  587.00    587.00  130,200,900"
      ]
     },
     "execution_count": 49,
     "metadata": {},
     "output_type": "execute_result"
    }
   ],
   "source": [
    "for row in soup.find(\"tbody\").find_all(\"tr\"):\n",
    "    col = row.find_all(\"td\")\n",
    "    date = col[0].text\n",
    "    open = col[1].text\n",
    "    high = col[2].text\n",
    "    low = col[3].text\n",
    "    close = col[4].text\n",
    "    adj_close = col[5].text\n",
    "    volume = col[6].text\n",
    "\n",
    "amazon_data = pd.concat([amazon_data, pd.DataFrame({\"Date\":[date], \"Open\":[open], \"High\":[high], \"Low\":[low], \"Close\":[close],\"Adj_Close\":[adj_close], \"Volume\":[volume]})], ignore_index = True)\n",
    "amazon_data\n",
    "\n",
    "    "
   ]
  },
  {
   "cell_type": "code",
   "execution_count": null,
   "id": "159d598d-7796-4bd1-9447-a9acb26116dc",
   "metadata": {},
   "outputs": [],
   "source": []
  },
  {
   "cell_type": "code",
   "execution_count": null,
   "id": "b176a4d8-df3f-46f3-ae31-6d4673bd810e",
   "metadata": {},
   "outputs": [],
   "source": []
  }
 ],
 "metadata": {
  "kernelspec": {
   "display_name": "Python 3 (ipykernel)",
   "language": "python",
   "name": "python3"
  },
  "language_info": {
   "codemirror_mode": {
    "name": "ipython",
    "version": 3
   },
   "file_extension": ".py",
   "mimetype": "text/x-python",
   "name": "python",
   "nbconvert_exporter": "python",
   "pygments_lexer": "ipython3",
   "version": "3.11.7"
  }
 },
 "nbformat": 4,
 "nbformat_minor": 5
}
